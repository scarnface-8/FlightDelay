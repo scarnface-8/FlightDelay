{
 "cells": [
  {
   "cell_type": "code",
   "execution_count": 81,
   "metadata": {},
   "outputs": [],
   "source": [
    "import numpy as np\n",
    "import pandas as pd\n",
    "import seaborn as sns\n",
    "import matplotlib.pyplot as plt\n",
    "from sklearn.model_selection import train_test_split\n",
    "from sklearn.ensemble import GradientBoostingRegressor\n",
    "from sklearn.metrics import mean_squared_error,r2_score,mean_absolute_error"
   ]
  },
  {
   "cell_type": "code",
   "execution_count": 12,
   "metadata": {},
   "outputs": [],
   "source": [
    "dataset = pd.read_csv('Flight-Delay.csv')"
   ]
  },
  {
   "cell_type": "code",
   "execution_count": 13,
   "metadata": {},
   "outputs": [],
   "source": [
    "col = ['Unnamed: 0','FlightDate','time_y','date','primary','Origin','Dest','time_x','airports','ArrTime','CRSArrTime']"
   ]
  },
  {
   "cell_type": "code",
   "execution_count": 14,
   "metadata": {},
   "outputs": [],
   "source": [
    "dataset.drop(col,axis=1,inplace=True)"
   ]
  },
  {
   "cell_type": "code",
   "execution_count": 15,
   "metadata": {},
   "outputs": [
    {
     "name": "stdout",
     "output_type": "stream",
     "text": [
      "<class 'pandas.core.frame.DataFrame'>\n",
      "RangeIndex: 1851433 entries, 0 to 1851432\n",
      "Data columns (total 24 columns):\n",
      " #   Column           Dtype  \n",
      "---  ------           -----  \n",
      " 0   Year             int64  \n",
      " 1   Quarter          int64  \n",
      " 2   Month            int64  \n",
      " 3   DayofMonth       int64  \n",
      " 4   OriginAirportID  int64  \n",
      " 5   DestAirportID    int64  \n",
      " 6   CRSDepTime       int64  \n",
      " 7   DepTime          float64\n",
      " 8   DepDelayMinutes  float64\n",
      " 9   DepDel15         float64\n",
      " 10  ArrDelayMinutes  float64\n",
      " 11  ArrDel15         float64\n",
      " 12  windspeedKmph    int64  \n",
      " 13  winddirDegree    int64  \n",
      " 14  weatherCode      int64  \n",
      " 15  precipMM         float64\n",
      " 16  visibility       int64  \n",
      " 17  pressure         int64  \n",
      " 18  cloudcover       int64  \n",
      " 19  DewPointF        int64  \n",
      " 20  WindGustKmph     int64  \n",
      " 21  tempF            int64  \n",
      " 22  WindChillF       int64  \n",
      " 23  humidity         int64  \n",
      "dtypes: float64(6), int64(18)\n",
      "memory usage: 339.0 MB\n"
     ]
    }
   ],
   "source": [
    "dataset.info()"
   ]
  },
  {
   "cell_type": "code",
   "execution_count": 16,
   "metadata": {},
   "outputs": [
    {
     "data": {
      "text/plain": [
       "(1851433, 24)"
      ]
     },
     "execution_count": 16,
     "metadata": {},
     "output_type": "execute_result"
    }
   ],
   "source": [
    "dataset.shape"
   ]
  },
  {
   "cell_type": "code",
   "execution_count": 17,
   "metadata": {},
   "outputs": [
    {
     "data": {
      "image/png": "[encoded data removed]",
      "text/plain": [
       "<Figure size 432x288 with 1 Axes>"
      ]
     },
     "metadata": {
      "needs_background": "light"
     },
     "output_type": "display_data"
    }
   ],
   "source": [
    "plt.plot(dataset['ArrDelayMinutes'])\n",
    "plt.show()"
   ]
  },
  {
   "cell_type": "code",
   "execution_count": 18,
   "metadata": {},
   "outputs": [],
   "source": [
    "dataset = dataset[dataset['ArrDel15'] == 1]\n",
    "dataset.drop('ArrDel15',axis=1,inplace=True)\n",
    "X = dataset.drop('ArrDelayMinutes',axis=1)\n",
    "Y = dataset['ArrDelayMinutes']\n",
    "X_train, X_test, Y_train, Y_test = train_test_split(X, Y, test_size=0.2, random_state=1)"
   ]
  },
  {
   "cell_type": "code",
   "execution_count": 19,
   "metadata": {},
   "outputs": [
    {
     "name": "stdout",
     "output_type": "stream",
     "text": [
      "RMSE:  16.86509052185185\n",
      "R Square:  0.9446418993784118\n",
      "MAE:  11.65600222643705\n"
     ]
    }
   ],
   "source": [
    "model = GradientBoostingRegressor()\n",
    "model.fit(X_train, Y_train)\n",
    "Y_pred = model.predict(X_test)\n",
    "\n",
    "print('RMSE: ',np.sqrt(mean_squared_error(Y_test,Y_pred)))\n",
    "print('R Square: ',r2_score(Y_test,Y_pred))\n",
    "print('MAE: ',mean_absolute_error(Y_test, Y_pred))"
   ]
  },
  {
   "cell_type": "code",
   "execution_count": 22,
   "metadata": {},
   "outputs": [
    {
     "name": "stderr",
     "output_type": "stream",
     "text": [
      "C:\\Users\\Vedanth.LAPTOP-MHC2LDIT\\Anaconda3\\lib\\site-packages\\ipykernel_launcher.py:2: SettingWithCopyWarning: \n",
      "A value is trying to be set on a copy of a slice from a DataFrame.\n",
      "Try using .loc[row_indexer,col_indexer] = value instead\n",
      "\n",
      "See the caveats in the documentation: https://pandas.pydata.org/pandas-docs/stable/user_guide/indexing.html#returning-a-view-versus-a-copy\n",
      "  \n"
     ]
    }
   ],
   "source": [
    "y_set = Y_test\n",
    "X_test['ArrDelayMinutes'] = Y_test\n",
    "x_set = X_test"
   ]
  },
  {
   "cell_type": "code",
   "execution_count": 78,
   "metadata": {},
   "outputs": [],
   "source": [
    "x_set1 = x_set.loc[:][(x_set['ArrDelayMinutes'] >= 15) & (x_set['ArrDelayMinutes'] < 90)]\n",
    "y_set1 = y_set[(y_set >= 15) & (y_set < 90)]\n",
    "\n",
    "x_set2 = x_set.loc[:][(x_set['ArrDelayMinutes'] >= 90) & (x_set['ArrDelayMinutes'] < 200)]\n",
    "y_set2 = y_set[(y_set >= 90) & (y_set < 200)]\n",
    "\n",
    "x_set3 = x_set.loc[:][(x_set['ArrDelayMinutes'] >= 200) & (x_set['ArrDelayMinutes'] < 400)]\n",
    "y_set3 = y_set[(y_set >= 200) & (y_set < 400)]\n",
    "\n",
    "x_set4 = x_set.loc[:][(x_set['ArrDelayMinutes'] >= 400) & (x_set['ArrDelayMinutes'] < 1000)]\n",
    "y_set4 = y_set[(y_set >= 400) & (y_set < 1000)]\n",
    "\n",
    "x_set5 = x_set.loc[:][(x_set['ArrDelayMinutes'] >= 1000) & (x_set['ArrDelayMinutes'] < 2150)]\n",
    "y_set5 = y_set[(y_set >= 1000) & (y_set < 2150)]\n"
   ]
  },
  {
   "cell_type": "code",
   "execution_count": 79,
   "metadata": {},
   "outputs": [],
   "source": [
    "x_set1.drop('ArrDelayMinutes',axis=1,inplace=True)\n",
    "x_set2.drop('ArrDelayMinutes',axis=1,inplace=True)\n",
    "x_set3.drop('ArrDelayMinutes',axis=1,inplace=True)\n",
    "x_set4.drop('ArrDelayMinutes',axis=1,inplace=True)\n",
    "x_set5.drop('ArrDelayMinutes',axis=1,inplace=True)"
   ]
  },
  {
   "cell_type": "code",
   "execution_count": 74,
   "metadata": {},
   "outputs": [
    {
     "name": "stdout",
     "output_type": "stream",
     "text": [
      "RMSE:  13.16933761178283\n",
      "R Square:  0.5531008883176016\n",
      "MAE:  10.112004047990164\n"
     ]
    }
   ],
   "source": [
    "y_pred = model.predict(x_set1)\n",
    "print('RMSE: ',np.sqrt(mean_squared_error(y_set1,y_pred)))\n",
    "print('R Square: ',r2_score(y_set1,y_pred))\n",
    "print('MAE: ',mean_absolute_error(y_set1, y_pred))"
   ]
  },
  {
   "cell_type": "code",
   "execution_count": 75,
   "metadata": {},
   "outputs": [
    {
     "name": "stdout",
     "output_type": "stream",
     "text": [
      "RMSE:  26.284492878178227\n",
      "R Square:  0.21940352807206487\n",
      "MAE:  17.616673526325858\n"
     ]
    }
   ],
   "source": [
    "y_pred = model.predict(x_set2)\n",
    "print('RMSE: ',np.sqrt(mean_squared_error(y_set2,y_pred)))\n",
    "print('R Square: ',r2_score(y_set2,y_pred))\n",
    "print('MAE: ',mean_absolute_error(y_set2, y_pred))"
   ]
  },
  {
   "cell_type": "code",
   "execution_count": 76,
   "metadata": {},
   "outputs": [
    {
     "name": "stdout",
     "output_type": "stream",
     "text": [
      "RMSE:  30.494132217550735\n",
      "R Square:  0.6260134154756455\n",
      "MAE:  19.38835230767729\n"
     ]
    }
   ],
   "source": [
    "y_pred = model.predict(x_set3)\n",
    "print('RMSE: ',np.sqrt(mean_squared_error(y_set3,y_pred)))\n",
    "print('R Square: ',r2_score(y_set3,y_pred))\n",
    "print('MAE: ',mean_absolute_error(y_set3, y_pred))"
   ]
  },
  {
   "cell_type": "code",
   "execution_count": 73,
   "metadata": {},
   "outputs": [
    {
     "name": "stdout",
     "output_type": "stream",
     "text": [
      "RMSE:  27.42140540589271\n",
      "R Square:  0.9735926435060447\n",
      "MAE:  18.38757234941889\n"
     ]
    }
   ],
   "source": [
    "y_pred = model.predict(x_set4)\n",
    "print('RMSE: ',np.sqrt(mean_squared_error(y_set4,y_pred)))\n",
    "print('R Square: ',r2_score(y_set4,y_pred))\n",
    "print('MAE: ',mean_absolute_error(y_set4, y_pred))"
   ]
  },
  {
   "cell_type": "code",
   "execution_count": 80,
   "metadata": {},
   "outputs": [
    {
     "name": "stdout",
     "output_type": "stream",
     "text": [
      "RMSE:  49.45004715321181\n",
      "R Square:  0.9447501252364593\n",
      "MAE:  25.38817347270661\n"
     ]
    }
   ],
   "source": [
    "y_pred = model.predict(x_set5)\n",
    "print('RMSE: ',np.sqrt(mean_squared_error(y_set5,y_pred)))\n",
    "print('R Square: ',r2_score(y_set5,y_pred))\n",
    "print('MAE: ',mean_absolute_error(y_set5, y_pred))"
   ]
  }
 ],
 "metadata": {
  "kernelspec": {
   "display_name": "Python 3",
   "language": "python",
   "name": "python3"
  },
  "language_info": {
   "codemirror_mode": {
    "name": "ipython",
    "version": 3
   },
   "file_extension": ".py",
   "mimetype": "text/x-python",
   "name": "python",
   "nbconvert_exporter": "python",
   "pygments_lexer": "ipython3",
   "version": "3.7.3"
  }
 },
 "nbformat": 4,
 "nbformat_minor": 4
}
