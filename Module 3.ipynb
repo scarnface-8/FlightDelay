{
 "cells": [
  {
   "cell_type": "markdown",
   "metadata": {},
   "source": [
    "# REGRESSION MODELS"
   ]
  },
  {
   "cell_type": "code",
   "execution_count": 29,
   "metadata": {},
   "outputs": [],
   "source": [
    "import numpy as np\n",
    "import pandas as pd\n",
    "from sklearn.model_selection import train_test_split\n",
    "from sklearn.linear_model import LinearRegression\n",
    "from sklearn.tree import DecisionTreeRegressor\n",
    "from sklearn.svm import SVR\n",
    "from sklearn.ensemble import ExtraTreesRegressor,GradientBoostingRegressor,GradientBoostingClassifier\n",
    "from sklearn.metrics import mean_squared_error,r2_score,mean_absolute_error\n",
    "from imblearn.over_sampling import SMOTE\n",
    "from sklearn.metrics import classification_report"
   ]
  },
  {
   "cell_type": "code",
   "execution_count": 131,
   "metadata": {},
   "outputs": [],
   "source": [
    "dataset = pd.read_csv('Flight-Delay.csv')"
   ]
  },
  {
   "cell_type": "code",
   "execution_count": 3,
   "metadata": {},
   "outputs": [
    {
     "data": {
      "text/html": [
       "<div>\n",
       "<style scoped>\n",
       "    .dataframe tbody tr th:only-of-type {\n",
       "        vertical-align: middle;\n",
       "    }\n",
       "\n",
       "    .dataframe tbody tr th {\n",
       "        vertical-align: top;\n",
       "    }\n",
       "\n",
       "    .dataframe thead th {\n",
       "        text-align: right;\n",
       "    }\n",
       "</style>\n",
       "<table border=\"1\" class=\"dataframe\">\n",
       "  <thead>\n",
       "    <tr style=\"text-align: right;\">\n",
       "      <th></th>\n",
       "      <th>Unnamed: 0</th>\n",
       "      <th>Year</th>\n",
       "      <th>Quarter</th>\n",
       "      <th>Month</th>\n",
       "      <th>DayofMonth</th>\n",
       "      <th>FlightDate</th>\n",
       "      <th>OriginAirportID</th>\n",
       "      <th>Origin</th>\n",
       "      <th>DestAirportID</th>\n",
       "      <th>Dest</th>\n",
       "      <th>...</th>\n",
       "      <th>pressure</th>\n",
       "      <th>cloudcover</th>\n",
       "      <th>DewPointF</th>\n",
       "      <th>WindGustKmph</th>\n",
       "      <th>tempF</th>\n",
       "      <th>WindChillF</th>\n",
       "      <th>humidity</th>\n",
       "      <th>date</th>\n",
       "      <th>time_y</th>\n",
       "      <th>airports</th>\n",
       "    </tr>\n",
       "  </thead>\n",
       "  <tbody>\n",
       "    <tr>\n",
       "      <th>0</th>\n",
       "      <td>0</td>\n",
       "      <td>2016</td>\n",
       "      <td>1</td>\n",
       "      <td>1</td>\n",
       "      <td>1</td>\n",
       "      <td>2016-01-01</td>\n",
       "      <td>14747</td>\n",
       "      <td>SEA</td>\n",
       "      <td>12478</td>\n",
       "      <td>JFK</td>\n",
       "      <td>...</td>\n",
       "      <td>1015</td>\n",
       "      <td>0</td>\n",
       "      <td>32</td>\n",
       "      <td>26</td>\n",
       "      <td>41</td>\n",
       "      <td>32</td>\n",
       "      <td>74</td>\n",
       "      <td>2016-01-01</td>\n",
       "      <td>1600</td>\n",
       "      <td>JFK</td>\n",
       "    </tr>\n",
       "    <tr>\n",
       "      <th>1</th>\n",
       "      <td>1</td>\n",
       "      <td>2016</td>\n",
       "      <td>1</td>\n",
       "      <td>1</td>\n",
       "      <td>1</td>\n",
       "      <td>2016-01-01</td>\n",
       "      <td>13303</td>\n",
       "      <td>MIA</td>\n",
       "      <td>12478</td>\n",
       "      <td>JFK</td>\n",
       "      <td>...</td>\n",
       "      <td>1015</td>\n",
       "      <td>0</td>\n",
       "      <td>32</td>\n",
       "      <td>26</td>\n",
       "      <td>41</td>\n",
       "      <td>32</td>\n",
       "      <td>74</td>\n",
       "      <td>2016-01-01</td>\n",
       "      <td>1600</td>\n",
       "      <td>JFK</td>\n",
       "    </tr>\n",
       "    <tr>\n",
       "      <th>2</th>\n",
       "      <td>2</td>\n",
       "      <td>2016</td>\n",
       "      <td>1</td>\n",
       "      <td>1</td>\n",
       "      <td>1</td>\n",
       "      <td>2016-01-01</td>\n",
       "      <td>13204</td>\n",
       "      <td>MCO</td>\n",
       "      <td>12478</td>\n",
       "      <td>JFK</td>\n",
       "      <td>...</td>\n",
       "      <td>1015</td>\n",
       "      <td>0</td>\n",
       "      <td>32</td>\n",
       "      <td>26</td>\n",
       "      <td>41</td>\n",
       "      <td>32</td>\n",
       "      <td>74</td>\n",
       "      <td>2016-01-01</td>\n",
       "      <td>1600</td>\n",
       "      <td>JFK</td>\n",
       "    </tr>\n",
       "    <tr>\n",
       "      <th>3</th>\n",
       "      <td>3</td>\n",
       "      <td>2016</td>\n",
       "      <td>1</td>\n",
       "      <td>1</td>\n",
       "      <td>1</td>\n",
       "      <td>2016-01-01</td>\n",
       "      <td>12892</td>\n",
       "      <td>LAX</td>\n",
       "      <td>12478</td>\n",
       "      <td>JFK</td>\n",
       "      <td>...</td>\n",
       "      <td>1015</td>\n",
       "      <td>0</td>\n",
       "      <td>32</td>\n",
       "      <td>26</td>\n",
       "      <td>41</td>\n",
       "      <td>32</td>\n",
       "      <td>74</td>\n",
       "      <td>2016-01-01</td>\n",
       "      <td>1600</td>\n",
       "      <td>JFK</td>\n",
       "    </tr>\n",
       "    <tr>\n",
       "      <th>4</th>\n",
       "      <td>4</td>\n",
       "      <td>2016</td>\n",
       "      <td>1</td>\n",
       "      <td>1</td>\n",
       "      <td>1</td>\n",
       "      <td>2016-01-01</td>\n",
       "      <td>13930</td>\n",
       "      <td>ORD</td>\n",
       "      <td>12478</td>\n",
       "      <td>JFK</td>\n",
       "      <td>...</td>\n",
       "      <td>1015</td>\n",
       "      <td>0</td>\n",
       "      <td>32</td>\n",
       "      <td>26</td>\n",
       "      <td>41</td>\n",
       "      <td>32</td>\n",
       "      <td>74</td>\n",
       "      <td>2016-01-01</td>\n",
       "      <td>1600</td>\n",
       "      <td>JFK</td>\n",
       "    </tr>\n",
       "  </tbody>\n",
       "</table>\n",
       "<p>5 rows × 35 columns</p>\n",
       "</div>"
      ],
      "text/plain": [
       "   Unnamed: 0  Year  Quarter  Month  DayofMonth  FlightDate  OriginAirportID  \\\n",
       "0           0  2016        1      1           1  2016-01-01            14747   \n",
       "1           1  2016        1      1           1  2016-01-01            13303   \n",
       "2           2  2016        1      1           1  2016-01-01            13204   \n",
       "3           3  2016        1      1           1  2016-01-01            12892   \n",
       "4           4  2016        1      1           1  2016-01-01            13930   \n",
       "\n",
       "  Origin  DestAirportID Dest  ...  pressure  cloudcover  DewPointF  \\\n",
       "0    SEA          12478  JFK  ...      1015           0         32   \n",
       "1    MIA          12478  JFK  ...      1015           0         32   \n",
       "2    MCO          12478  JFK  ...      1015           0         32   \n",
       "3    LAX          12478  JFK  ...      1015           0         32   \n",
       "4    ORD          12478  JFK  ...      1015           0         32   \n",
       "\n",
       "   WindGustKmph  tempF  WindChillF  humidity        date  time_y airports  \n",
       "0            26     41          32        74  2016-01-01    1600      JFK  \n",
       "1            26     41          32        74  2016-01-01    1600      JFK  \n",
       "2            26     41          32        74  2016-01-01    1600      JFK  \n",
       "3            26     41          32        74  2016-01-01    1600      JFK  \n",
       "4            26     41          32        74  2016-01-01    1600      JFK  \n",
       "\n",
       "[5 rows x 35 columns]"
      ]
     },
     "execution_count": 3,
     "metadata": {},
     "output_type": "execute_result"
    }
   ],
   "source": [
    "dataset.head()"
   ]
  },
  {
   "cell_type": "code",
   "execution_count": 4,
   "metadata": {},
   "outputs": [
    {
     "data": {
      "text/plain": [
       "Index(['Unnamed: 0', 'Year', 'Quarter', 'Month', 'DayofMonth', 'FlightDate',\n",
       "       'OriginAirportID', 'Origin', 'DestAirportID', 'Dest', 'CRSDepTime',\n",
       "       'DepTime', 'DepDelayMinutes', 'DepDel15', 'CRSArrTime', 'ArrTime',\n",
       "       'ArrDelayMinutes', 'ArrDel15', 'time_x', 'primary', 'windspeedKmph',\n",
       "       'winddirDegree', 'weatherCode', 'precipMM', 'visibility', 'pressure',\n",
       "       'cloudcover', 'DewPointF', 'WindGustKmph', 'tempF', 'WindChillF',\n",
       "       'humidity', 'date', 'time_y', 'airports'],\n",
       "      dtype='object')"
      ]
     },
     "execution_count": 4,
     "metadata": {},
     "output_type": "execute_result"
    }
   ],
   "source": [
    "dataset.columns"
   ]
  },
  {
   "cell_type": "code",
   "execution_count": 5,
   "metadata": {},
   "outputs": [],
   "source": [
    "col = ['Unnamed: 0','FlightDate','time_y','date','primary','Origin','Dest','time_x','airports','ArrTime','CRSArrTime']"
   ]
  },
  {
   "cell_type": "code",
   "execution_count": 6,
   "metadata": {},
   "outputs": [],
   "source": [
    "dataset.drop(col,axis=1,inplace=True)"
   ]
  },
  {
   "cell_type": "code",
   "execution_count": 7,
   "metadata": {},
   "outputs": [
    {
     "name": "stdout",
     "output_type": "stream",
     "text": [
      "<class 'pandas.core.frame.DataFrame'>\n",
      "RangeIndex: 1851433 entries, 0 to 1851432\n",
      "Data columns (total 24 columns):\n",
      " #   Column           Dtype  \n",
      "---  ------           -----  \n",
      " 0   Year             int64  \n",
      " 1   Quarter          int64  \n",
      " 2   Month            int64  \n",
      " 3   DayofMonth       int64  \n",
      " 4   OriginAirportID  int64  \n",
      " 5   DestAirportID    int64  \n",
      " 6   CRSDepTime       int64  \n",
      " 7   DepTime          float64\n",
      " 8   DepDelayMinutes  float64\n",
      " 9   DepDel15         float64\n",
      " 10  ArrDelayMinutes  float64\n",
      " 11  ArrDel15         float64\n",
      " 12  windspeedKmph    int64  \n",
      " 13  winddirDegree    int64  \n",
      " 14  weatherCode      int64  \n",
      " 15  precipMM         float64\n",
      " 16  visibility       int64  \n",
      " 17  pressure         int64  \n",
      " 18  cloudcover       int64  \n",
      " 19  DewPointF        int64  \n",
      " 20  WindGustKmph     int64  \n",
      " 21  tempF            int64  \n",
      " 22  WindChillF       int64  \n",
      " 23  humidity         int64  \n",
      "dtypes: float64(6), int64(18)\n",
      "memory usage: 339.0 MB\n"
     ]
    }
   ],
   "source": [
    "dataset.info()"
   ]
  },
  {
   "cell_type": "markdown",
   "metadata": {},
   "source": [
    "# Training and Test Split"
   ]
  },
  {
   "cell_type": "code",
   "execution_count": 8,
   "metadata": {},
   "outputs": [],
   "source": [
    "dataset = dataset[dataset['ArrDel15'] == 1]"
   ]
  },
  {
   "cell_type": "code",
   "execution_count": 9,
   "metadata": {},
   "outputs": [],
   "source": [
    "dataset.drop('ArrDel15',axis=1,inplace=True)"
   ]
  },
  {
   "cell_type": "code",
   "execution_count": 10,
   "metadata": {},
   "outputs": [],
   "source": [
    "X = dataset.drop('ArrDelayMinutes',axis=1).values\n",
    "Y = dataset['ArrDelayMinutes'].values"
   ]
  },
  {
   "cell_type": "code",
   "execution_count": 11,
   "metadata": {},
   "outputs": [],
   "source": [
    "X_train, X_test, Y_train, Y_test = train_test_split(X, Y, test_size=0.2, random_state=1)"
   ]
  },
  {
   "cell_type": "markdown",
   "metadata": {},
   "source": [
    "# Linear Regression"
   ]
  },
  {
   "cell_type": "code",
   "execution_count": 13,
   "metadata": {},
   "outputs": [
    {
     "name": "stdout",
     "output_type": "stream",
     "text": [
      "RMSE:  17.530573949116594\n",
      "R Square:  0.9401869294592831\n",
      "MAE:  12.169075724729154\n"
     ]
    }
   ],
   "source": [
    "model = LinearRegression()\n",
    "model.fit(X_train, Y_train)\n",
    "Y_pred = model.predict(X_test)\n",
    "\n",
    "print('RMSE: ',np.sqrt(mean_squared_error(Y_test,Y_pred)))\n",
    "print('R Square: ',r2_score(Y_test,Y_pred))\n",
    "print('MAE: ',mean_absolute_error(Y_test, Y_pred))"
   ]
  },
  {
   "cell_type": "markdown",
   "metadata": {},
   "source": [
    "# Decision Tree Regressor"
   ]
  },
  {
   "cell_type": "code",
   "execution_count": 17,
   "metadata": {},
   "outputs": [
    {
     "name": "stdout",
     "output_type": "stream",
     "text": [
      "RMSE:  24.158812563976852\n",
      "R Square:  0.8864061036764228\n",
      "MAE:  16.6497577694171\n"
     ]
    }
   ],
   "source": [
    "reg = DecisionTreeRegressor()\n",
    "reg.fit(X_train, Y_train)\n",
    "Y_pred = reg.predict(X_test)\n",
    "\n",
    "print('RMSE: ',np.sqrt(mean_squared_error(Y_test,Y_pred)))\n",
    "print('R Square: ',r2_score(Y_test,Y_pred))\n",
    "print('MAE: ',mean_absolute_error(Y_test, Y_pred))"
   ]
  },
  {
   "cell_type": "markdown",
   "metadata": {},
   "source": [
    "# Extra Tress Regressor"
   ]
  },
  {
   "cell_type": "code",
   "execution_count": 18,
   "metadata": {},
   "outputs": [],
   "source": [
    "reg = ExtraTreesRegressor()\n",
    "reg.fit(X_train, Y_train)\n",
    "Y_pred = reg.predict(X_test)"
   ]
  },
  {
   "cell_type": "code",
   "execution_count": 17,
   "metadata": {},
   "outputs": [
    {
     "name": "stdout",
     "output_type": "stream",
     "text": [
      "RMSE:  16.88511057786315\n",
      "R Square:  0.9445103934048745\n",
      "MAE:  11.854980286553626\n"
     ]
    }
   ],
   "source": [
    "print('RMSE: ',np.sqrt(mean_squared_error(Y_test,Y_pred)))\n",
    "print('R Square: ',r2_score(Y_test,Y_pred))\n",
    "print('MAE: ',mean_absolute_error(Y_test, Y_pred))"
   ]
  },
  {
   "cell_type": "markdown",
   "metadata": {},
   "source": [
    "# Gradient Boost Regressor"
   ]
  },
  {
   "cell_type": "code",
   "execution_count": 19,
   "metadata": {},
   "outputs": [
    {
     "name": "stdout",
     "output_type": "stream",
     "text": [
      "RMSE:  16.864084876386293\n",
      "R Square:  0.9446485010581376\n",
      "MAE:  11.65592999318567\n"
     ]
    }
   ],
   "source": [
    "model = GradientBoostingRegressor()\n",
    "model.fit(X_train, Y_train)\n",
    "Y_pred = model.predict(X_test)\n",
    "\n",
    "print('RMSE: ',np.sqrt(mean_squared_error(Y_test,Y_pred)))\n",
    "print('R Square: ',r2_score(Y_test,Y_pred))\n",
    "print('MAE: ',mean_absolute_error(Y_test, Y_pred))"
   ]
  },
  {
   "cell_type": "markdown",
   "metadata": {},
   "source": [
    "# Pipeline "
   ]
  },
  {
   "cell_type": "code",
   "execution_count": 96,
   "metadata": {},
   "outputs": [],
   "source": [
    "df = pd.read_csv('Flight-Delay.csv')"
   ]
  },
  {
   "cell_type": "code",
   "execution_count": 97,
   "metadata": {},
   "outputs": [],
   "source": [
    "col = ['Unnamed: 0','FlightDate','time_y','date','ArrDelayMinutes','primary','Origin','Dest','time_x','airports','ArrTime','CRSArrTime']"
   ]
  },
  {
   "cell_type": "code",
   "execution_count": 98,
   "metadata": {},
   "outputs": [],
   "source": [
    "df.drop(col,axis=1,inplace=True)"
   ]
  },
  {
   "cell_type": "code",
   "execution_count": 99,
   "metadata": {},
   "outputs": [],
   "source": [
    "pipe_train = df[df['Year'] == 2016]\n",
    "pipe_test = df[df['Year'] == 2017]\n",
    "\n",
    "x_train = pipe_train.drop('ArrDel15',axis=1)\n",
    "y_train = pipe_train['ArrDel15']\n",
    "\n",
    "x_test = pipe_test.drop('ArrDel15',axis=1)\n",
    "y_test = pipe_test['ArrDel15']"
   ]
  },
  {
   "cell_type": "markdown",
   "metadata": {},
   "source": [
    "### Classifier"
   ]
  },
  {
   "cell_type": "code",
   "execution_count": 100,
   "metadata": {},
   "outputs": [],
   "source": [
    "clf = GradientBoostingClassifier()"
   ]
  },
  {
   "cell_type": "code",
   "execution_count": 101,
   "metadata": {},
   "outputs": [],
   "source": [
    "sm = SMOTE(random_state=42)\n",
    "x_sm, y_sm = sm.fit_resample(x_train, y_train)\n",
    "clf.fit(x_sm, y_sm)\n",
    "y_pred_class = clf.predict(x_test)"
   ]
  },
  {
   "cell_type": "code",
   "execution_count": 103,
   "metadata": {},
   "outputs": [
    {
     "data": {
      "text/html": [
       "<div>\n",
       "<style scoped>\n",
       "    .dataframe tbody tr th:only-of-type {\n",
       "        vertical-align: middle;\n",
       "    }\n",
       "\n",
       "    .dataframe tbody tr th {\n",
       "        vertical-align: top;\n",
       "    }\n",
       "\n",
       "    .dataframe thead th {\n",
       "        text-align: right;\n",
       "    }\n",
       "</style>\n",
       "<table border=\"1\" class=\"dataframe\">\n",
       "  <thead>\n",
       "    <tr style=\"text-align: right;\">\n",
       "      <th></th>\n",
       "      <th>precision</th>\n",
       "      <th>recall</th>\n",
       "      <th>f1-score</th>\n",
       "      <th>support</th>\n",
       "    </tr>\n",
       "  </thead>\n",
       "  <tbody>\n",
       "    <tr>\n",
       "      <th>0.0</th>\n",
       "      <td>0.930785</td>\n",
       "      <td>0.954890</td>\n",
       "      <td>0.942683</td>\n",
       "      <td>718933.000000</td>\n",
       "    </tr>\n",
       "    <tr>\n",
       "      <th>1.0</th>\n",
       "      <td>0.816694</td>\n",
       "      <td>0.738931</td>\n",
       "      <td>0.775869</td>\n",
       "      <td>195542.000000</td>\n",
       "    </tr>\n",
       "    <tr>\n",
       "      <th>accuracy</th>\n",
       "      <td>0.908712</td>\n",
       "      <td>0.908712</td>\n",
       "      <td>0.908712</td>\n",
       "      <td>0.908712</td>\n",
       "    </tr>\n",
       "    <tr>\n",
       "      <th>macro avg</th>\n",
       "      <td>0.873739</td>\n",
       "      <td>0.846910</td>\n",
       "      <td>0.859276</td>\n",
       "      <td>914475.000000</td>\n",
       "    </tr>\n",
       "    <tr>\n",
       "      <th>weighted avg</th>\n",
       "      <td>0.906389</td>\n",
       "      <td>0.908712</td>\n",
       "      <td>0.907013</td>\n",
       "      <td>914475.000000</td>\n",
       "    </tr>\n",
       "  </tbody>\n",
       "</table>\n",
       "</div>"
      ],
      "text/plain": [
       "              precision    recall  f1-score        support\n",
       "0.0            0.930785  0.954890  0.942683  718933.000000\n",
       "1.0            0.816694  0.738931  0.775869  195542.000000\n",
       "accuracy       0.908712  0.908712  0.908712       0.908712\n",
       "macro avg      0.873739  0.846910  0.859276  914475.000000\n",
       "weighted avg   0.906389  0.908712  0.907013  914475.000000"
      ]
     },
     "execution_count": 103,
     "metadata": {},
     "output_type": "execute_result"
    }
   ],
   "source": [
    "report = classification_report(y_test, y_pred_class,output_dict=True)\n",
    "df_rep = pd.DataFrame(report).transpose()\n",
    "df_rep"
   ]
  },
  {
   "cell_type": "markdown",
   "metadata": {},
   "source": [
    "### Regressor"
   ]
  },
  {
   "cell_type": "code",
   "execution_count": 123,
   "metadata": {},
   "outputs": [],
   "source": [
    "train = df[df['Year'] == 2017]\n",
    "train.drop('ArrDel15',axis=1,inplace=True)"
   ]
  },
  {
   "cell_type": "code",
   "execution_count": 124,
   "metadata": {},
   "outputs": [
    {
     "name": "stderr",
     "output_type": "stream",
     "text": [
      "C:\\Users\\Vedanth.LAPTOP-MHC2LDIT\\Anaconda3\\lib\\site-packages\\ipykernel_launcher.py:1: SettingWithCopyWarning: \n",
      "A value is trying to be set on a copy of a slice from a DataFrame.\n",
      "Try using .loc[row_indexer,col_indexer] = value instead\n",
      "\n",
      "See the caveats in the documentation: https://pandas.pydata.org/pandas-docs/stable/user_guide/indexing.html#returning-a-view-versus-a-copy\n",
      "  \"\"\"Entry point for launching an IPython kernel.\n"
     ]
    }
   ],
   "source": [
    "train['ArrDel15'] = y_pred_class"
   ]
  },
  {
   "cell_type": "code",
   "execution_count": 133,
   "metadata": {},
   "outputs": [],
   "source": [
    "train['ArrDelayMinutes'] = dataset[dataset['Year'] == 2017]['ArrDelayMinutes']\n",
    "train = train[pipe_test['ArrDel15'] == 1]"
   ]
  },
  {
   "cell_type": "code",
   "execution_count": 134,
   "metadata": {},
   "outputs": [],
   "source": [
    "train.drop('ArrDel15',axis=1,inplace=True)\n",
    " \n",
    "X = train.drop('ArrDelayMinutes',axis=1).values\n",
    "Y = train['ArrDelayMinutes'].values \n",
    "\n",
    "x_train, x_test, y_train, y_test = train_test_split(X, Y, test_size=0.2, random_state=42)"
   ]
  },
  {
   "cell_type": "code",
   "execution_count": 135,
   "metadata": {},
   "outputs": [
    {
     "name": "stdout",
     "output_type": "stream",
     "text": [
      "RMSE:  17.613856337324105\n",
      "R Square:  0.948524643745758\n",
      "MAE:  12.532500904060852\n"
     ]
    }
   ],
   "source": [
    "model = GradientBoostingRegressor()\n",
    "model.fit(x_train, y_train)\n",
    "y_pred = model.predict(x_test)\n",
    "\n",
    "print('RMSE: ',np.sqrt(mean_squared_error(y_test,y_pred)))\n",
    "print('R Square: ',r2_score(y_test,y_pred))\n",
    "print('MAE: ',mean_absolute_error(y_test, y_pred))"
   ]
  }
 ],
 "metadata": {
  "kernelspec": {
   "display_name": "Python 3",
   "language": "python",
   "name": "python3"
  },
  "language_info": {
   "codemirror_mode": {
    "name": "ipython",
    "version": 3
   },
   "file_extension": ".py",
   "mimetype": "text/x-python",
   "name": "python",
   "nbconvert_exporter": "python",
   "pygments_lexer": "ipython3",
   "version": "3.7.3"
  }
 },
 "nbformat": 4,
 "nbformat_minor": 4
}
